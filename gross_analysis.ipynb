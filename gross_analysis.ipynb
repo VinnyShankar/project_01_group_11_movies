{
 "cells": [
  {
   "cell_type": "code",
   "execution_count": 1,
   "id": "06cc3e6b",
   "metadata": {},
   "outputs": [],
   "source": [
    "# Dependencies\n",
    "import pandas as pd\n",
    "import numpy as np\n",
    "import scipy.stats as st\n",
    "import matplotlib.pyplot as plt"
   ]
  },
  {
   "cell_type": "code",
   "execution_count": 2,
   "id": "cb95c550",
   "metadata": {},
   "outputs": [
    {
     "data": {
      "text/html": [
       "<div>\n",
       "<style scoped>\n",
       "    .dataframe tbody tr th:only-of-type {\n",
       "        vertical-align: middle;\n",
       "    }\n",
       "\n",
       "    .dataframe tbody tr th {\n",
       "        vertical-align: top;\n",
       "    }\n",
       "\n",
       "    .dataframe thead th {\n",
       "        text-align: right;\n",
       "    }\n",
       "</style>\n",
       "<table border=\"1\" class=\"dataframe\">\n",
       "  <thead>\n",
       "    <tr style=\"text-align: right;\">\n",
       "      <th></th>\n",
       "      <th>Title</th>\n",
       "      <th>Type</th>\n",
       "      <th>Release</th>\n",
       "      <th>Runtime</th>\n",
       "      <th>Genre</th>\n",
       "      <th>Nominations</th>\n",
       "      <th>Metascore</th>\n",
       "      <th>imdbRating</th>\n",
       "      <th>imdbVotes</th>\n",
       "      <th>imdbID</th>\n",
       "      <th>Budget</th>\n",
       "      <th>Gross</th>\n",
       "      <th>Platform</th>\n",
       "    </tr>\n",
       "  </thead>\n",
       "  <tbody>\n",
       "    <tr>\n",
       "      <th>0</th>\n",
       "      <td>Insidious: The Last Key</td>\n",
       "      <td>Movie</td>\n",
       "      <td>2018-01-05</td>\n",
       "      <td>6180.0</td>\n",
       "      <td>Horror</td>\n",
       "      <td>NaN</td>\n",
       "      <td>49.0</td>\n",
       "      <td>5.7</td>\n",
       "      <td>63102</td>\n",
       "      <td>tt5726086</td>\n",
       "      <td>10000000.0</td>\n",
       "      <td>167885588.0</td>\n",
       "      <td>others</td>\n",
       "    </tr>\n",
       "    <tr>\n",
       "      <th>1</th>\n",
       "      <td>Stratton</td>\n",
       "      <td>Movie</td>\n",
       "      <td>2018-01-05</td>\n",
       "      <td>5700.0</td>\n",
       "      <td>Action</td>\n",
       "      <td>NaN</td>\n",
       "      <td>26.0</td>\n",
       "      <td>4.8</td>\n",
       "      <td>5405</td>\n",
       "      <td>tt3567666</td>\n",
       "      <td>NaN</td>\n",
       "      <td>257212.0</td>\n",
       "      <td>others</td>\n",
       "    </tr>\n",
       "    <tr>\n",
       "      <th>2</th>\n",
       "      <td>Sweet Country</td>\n",
       "      <td>Movie</td>\n",
       "      <td>2018-04-06</td>\n",
       "      <td>6780.0</td>\n",
       "      <td>Adventure</td>\n",
       "      <td>NaN</td>\n",
       "      <td>88.0</td>\n",
       "      <td>6.9</td>\n",
       "      <td>8855</td>\n",
       "      <td>tt6958212</td>\n",
       "      <td>NaN</td>\n",
       "      <td>1849718.0</td>\n",
       "      <td>others</td>\n",
       "    </tr>\n",
       "    <tr>\n",
       "      <th>3</th>\n",
       "      <td>The Commuter</td>\n",
       "      <td>Movie</td>\n",
       "      <td>2018-01-12</td>\n",
       "      <td>6240.0</td>\n",
       "      <td>Action</td>\n",
       "      <td>NaN</td>\n",
       "      <td>56.0</td>\n",
       "      <td>6.3</td>\n",
       "      <td>118954</td>\n",
       "      <td>tt1590193</td>\n",
       "      <td>30000000.0</td>\n",
       "      <td>119942387.0</td>\n",
       "      <td>others</td>\n",
       "    </tr>\n",
       "    <tr>\n",
       "      <th>4</th>\n",
       "      <td>Freak Show</td>\n",
       "      <td>Movie</td>\n",
       "      <td>2018-01-12</td>\n",
       "      <td>5460.0</td>\n",
       "      <td>Comedy</td>\n",
       "      <td>NaN</td>\n",
       "      <td>54.0</td>\n",
       "      <td>6.5</td>\n",
       "      <td>4376</td>\n",
       "      <td>tt5089534</td>\n",
       "      <td>NaN</td>\n",
       "      <td>20657.0</td>\n",
       "      <td>others</td>\n",
       "    </tr>\n",
       "  </tbody>\n",
       "</table>\n",
       "</div>"
      ],
      "text/plain": [
       "                     Title   Type     Release  Runtime      Genre  \\\n",
       "0  Insidious: The Last Key  Movie  2018-01-05   6180.0     Horror   \n",
       "1                 Stratton  Movie  2018-01-05   5700.0     Action   \n",
       "2            Sweet Country  Movie  2018-04-06   6780.0  Adventure   \n",
       "3             The Commuter  Movie  2018-01-12   6240.0     Action   \n",
       "4               Freak Show  Movie  2018-01-12   5460.0     Comedy   \n",
       "\n",
       "   Nominations  Metascore  imdbRating  imdbVotes     imdbID      Budget  \\\n",
       "0          NaN       49.0         5.7      63102  tt5726086  10000000.0   \n",
       "1          NaN       26.0         4.8       5405  tt3567666         NaN   \n",
       "2          NaN       88.0         6.9       8855  tt6958212         NaN   \n",
       "3          NaN       56.0         6.3     118954  tt1590193  30000000.0   \n",
       "4          NaN       54.0         6.5       4376  tt5089534         NaN   \n",
       "\n",
       "         Gross Platform  \n",
       "0  167885588.0   others  \n",
       "1     257212.0   others  \n",
       "2    1849718.0   others  \n",
       "3  119942387.0   others  \n",
       "4      20657.0   others  "
      ]
     },
     "execution_count": 2,
     "metadata": {},
     "output_type": "execute_result"
    }
   ],
   "source": [
    "# read cleaned csv data\n",
    "cleaned_movie_pd = pd.read_csv(\"clean_data_for_analysis.csv\")\n",
    "cleaned_movie_pd.head()"
   ]
  },
  {
   "cell_type": "code",
   "execution_count": 3,
   "id": "9897384c",
   "metadata": {},
   "outputs": [
    {
     "name": "stdout",
     "output_type": "stream",
     "text": [
      "<class 'pandas.core.frame.DataFrame'>\n",
      "RangeIndex: 1153 entries, 0 to 1152\n",
      "Data columns (total 13 columns):\n",
      " #   Column       Non-Null Count  Dtype  \n",
      "---  ------       --------------  -----  \n",
      " 0   Title        1153 non-null   object \n",
      " 1   Type         1153 non-null   object \n",
      " 2   Release      1153 non-null   object \n",
      " 3   Runtime      1153 non-null   float64\n",
      " 4   Genre        1153 non-null   object \n",
      " 5   Nominations  167 non-null    float64\n",
      " 6   Metascore    1053 non-null   float64\n",
      " 7   imdbRating   1153 non-null   float64\n",
      " 8   imdbVotes    1153 non-null   int64  \n",
      " 9   imdbID       1153 non-null   object \n",
      " 10  Budget       500 non-null    float64\n",
      " 11  Gross        837 non-null    float64\n",
      " 12  Platform     1153 non-null   object \n",
      "dtypes: float64(6), int64(1), object(6)\n",
      "memory usage: 117.2+ KB\n"
     ]
    }
   ],
   "source": [
    "cleaned_movie_pd.info()"
   ]
  },
  {
   "cell_type": "code",
   "execution_count": 62,
   "id": "f0e8b7e3",
   "metadata": {},
   "outputs": [],
   "source": [
    "# split data groups to streaming and non-streaming (netflix)\n",
    "non_streaming_df = cleaned_movie_pd.loc[(cleaned_movie_pd[\"Platform\"] == \"others\"), :]\n",
    "streaming_df = cleaned_movie_pd.loc[(cleaned_movie_pd[\"Platform\"] == \"netflix\"), :]"
   ]
  },
  {
   "cell_type": "code",
   "execution_count": 4,
   "id": "6530f2e6",
   "metadata": {},
   "outputs": [
    {
     "data": {
      "text/html": [
       "<div>\n",
       "<style scoped>\n",
       "    .dataframe tbody tr th:only-of-type {\n",
       "        vertical-align: middle;\n",
       "    }\n",
       "\n",
       "    .dataframe tbody tr th {\n",
       "        vertical-align: top;\n",
       "    }\n",
       "\n",
       "    .dataframe thead th {\n",
       "        text-align: right;\n",
       "    }\n",
       "</style>\n",
       "<table border=\"1\" class=\"dataframe\">\n",
       "  <thead>\n",
       "    <tr style=\"text-align: right;\">\n",
       "      <th></th>\n",
       "      <th>Title</th>\n",
       "      <th>Type</th>\n",
       "      <th>Release</th>\n",
       "      <th>Runtime</th>\n",
       "      <th>Genre</th>\n",
       "      <th>Nominations</th>\n",
       "      <th>Metascore</th>\n",
       "      <th>imdbRating</th>\n",
       "      <th>imdbVotes</th>\n",
       "      <th>imdbID</th>\n",
       "      <th>Budget</th>\n",
       "      <th>Gross</th>\n",
       "      <th>Platform</th>\n",
       "    </tr>\n",
       "  </thead>\n",
       "  <tbody>\n",
       "    <tr>\n",
       "      <th>0</th>\n",
       "      <td>Insidious: The Last Key</td>\n",
       "      <td>Movie</td>\n",
       "      <td>2018</td>\n",
       "      <td>6180.0</td>\n",
       "      <td>Horror</td>\n",
       "      <td>NaN</td>\n",
       "      <td>49.0</td>\n",
       "      <td>5.7</td>\n",
       "      <td>63102</td>\n",
       "      <td>tt5726086</td>\n",
       "      <td>10000000.0</td>\n",
       "      <td>167885588.0</td>\n",
       "      <td>others</td>\n",
       "    </tr>\n",
       "    <tr>\n",
       "      <th>1</th>\n",
       "      <td>Stratton</td>\n",
       "      <td>Movie</td>\n",
       "      <td>2018</td>\n",
       "      <td>5700.0</td>\n",
       "      <td>Action</td>\n",
       "      <td>NaN</td>\n",
       "      <td>26.0</td>\n",
       "      <td>4.8</td>\n",
       "      <td>5405</td>\n",
       "      <td>tt3567666</td>\n",
       "      <td>NaN</td>\n",
       "      <td>257212.0</td>\n",
       "      <td>others</td>\n",
       "    </tr>\n",
       "    <tr>\n",
       "      <th>2</th>\n",
       "      <td>Sweet Country</td>\n",
       "      <td>Movie</td>\n",
       "      <td>2018</td>\n",
       "      <td>6780.0</td>\n",
       "      <td>Adventure</td>\n",
       "      <td>NaN</td>\n",
       "      <td>88.0</td>\n",
       "      <td>6.9</td>\n",
       "      <td>8855</td>\n",
       "      <td>tt6958212</td>\n",
       "      <td>NaN</td>\n",
       "      <td>1849718.0</td>\n",
       "      <td>others</td>\n",
       "    </tr>\n",
       "    <tr>\n",
       "      <th>3</th>\n",
       "      <td>The Commuter</td>\n",
       "      <td>Movie</td>\n",
       "      <td>2018</td>\n",
       "      <td>6240.0</td>\n",
       "      <td>Action</td>\n",
       "      <td>NaN</td>\n",
       "      <td>56.0</td>\n",
       "      <td>6.3</td>\n",
       "      <td>118954</td>\n",
       "      <td>tt1590193</td>\n",
       "      <td>30000000.0</td>\n",
       "      <td>119942387.0</td>\n",
       "      <td>others</td>\n",
       "    </tr>\n",
       "    <tr>\n",
       "      <th>4</th>\n",
       "      <td>Freak Show</td>\n",
       "      <td>Movie</td>\n",
       "      <td>2018</td>\n",
       "      <td>5460.0</td>\n",
       "      <td>Comedy</td>\n",
       "      <td>NaN</td>\n",
       "      <td>54.0</td>\n",
       "      <td>6.5</td>\n",
       "      <td>4376</td>\n",
       "      <td>tt5089534</td>\n",
       "      <td>NaN</td>\n",
       "      <td>20657.0</td>\n",
       "      <td>others</td>\n",
       "    </tr>\n",
       "  </tbody>\n",
       "</table>\n",
       "</div>"
      ],
      "text/plain": [
       "                     Title   Type  Release  Runtime      Genre  Nominations  \\\n",
       "0  Insidious: The Last Key  Movie     2018   6180.0     Horror          NaN   \n",
       "1                 Stratton  Movie     2018   5700.0     Action          NaN   \n",
       "2            Sweet Country  Movie     2018   6780.0  Adventure          NaN   \n",
       "3             The Commuter  Movie     2018   6240.0     Action          NaN   \n",
       "4               Freak Show  Movie     2018   5460.0     Comedy          NaN   \n",
       "\n",
       "   Metascore  imdbRating  imdbVotes     imdbID      Budget        Gross  \\\n",
       "0       49.0         5.7      63102  tt5726086  10000000.0  167885588.0   \n",
       "1       26.0         4.8       5405  tt3567666         NaN     257212.0   \n",
       "2       88.0         6.9       8855  tt6958212         NaN    1849718.0   \n",
       "3       56.0         6.3     118954  tt1590193  30000000.0  119942387.0   \n",
       "4       54.0         6.5       4376  tt5089534         NaN      20657.0   \n",
       "\n",
       "  Platform  \n",
       "0   others  \n",
       "1   others  \n",
       "2   others  \n",
       "3   others  \n",
       "4   others  "
      ]
     },
     "execution_count": 4,
     "metadata": {},
     "output_type": "execute_result"
    }
   ],
   "source": [
    "# convert Release date to datetime data type\n",
    "# then get only the released year\n",
    "cleaned_movie_pd[\"Release\"] = pd.to_datetime(cleaned_movie_pd[\"Release\"]).dt.year\n",
    "cleaned_movie_pd.head()"
   ]
  },
  {
   "cell_type": "code",
   "execution_count": 5,
   "id": "cdeba6e1",
   "metadata": {},
   "outputs": [],
   "source": [
    "# filter out pre- and post- and during-covid data\n",
    "movies_pre_covid = cleaned_movie_pd.loc[(cleaned_movie_pd[\"Release\"] == 2018) |\n",
    "                                        (cleaned_movie_pd[\"Release\"] == 2019), :]\n",
    "\n",
    "movies_post_covid = cleaned_movie_pd.loc[(cleaned_movie_pd[\"Release\"] == 2021) |\n",
    "                                        (cleaned_movie_pd[\"Release\"] == 2022), :]\n",
    "\n",
    "movies_during_covid = cleaned_movie_pd.loc[(cleaned_movie_pd[\"Release\"] == 2020), :]"
   ]
  },
  {
   "cell_type": "code",
   "execution_count": 28,
   "id": "fe131eb7",
   "metadata": {},
   "outputs": [
    {
     "name": "stderr",
     "output_type": "stream",
     "text": [
      "C:\\Users\\Jing Surface\\anaconda3\\envs\\PythonData\\lib\\site-packages\\ipykernel_launcher.py:2: FutureWarning: Indexing with multiple keys (implicitly converted to a tuple of keys) will be deprecated, use a list instead.\n",
      "  \n"
     ]
    },
    {
     "data": {
      "text/html": [
       "<div>\n",
       "<style scoped>\n",
       "    .dataframe tbody tr th:only-of-type {\n",
       "        vertical-align: middle;\n",
       "    }\n",
       "\n",
       "    .dataframe tbody tr th {\n",
       "        vertical-align: top;\n",
       "    }\n",
       "\n",
       "    .dataframe thead th {\n",
       "        text-align: right;\n",
       "    }\n",
       "</style>\n",
       "<table border=\"1\" class=\"dataframe\">\n",
       "  <thead>\n",
       "    <tr style=\"text-align: right;\">\n",
       "      <th></th>\n",
       "      <th>imdbRating</th>\n",
       "      <th>Metascore</th>\n",
       "    </tr>\n",
       "    <tr>\n",
       "      <th>Release</th>\n",
       "      <th></th>\n",
       "      <th></th>\n",
       "    </tr>\n",
       "  </thead>\n",
       "  <tbody>\n",
       "    <tr>\n",
       "      <th>2018</th>\n",
       "      <td>6.355869</td>\n",
       "      <td>57.836634</td>\n",
       "    </tr>\n",
       "    <tr>\n",
       "      <th>2019</th>\n",
       "      <td>6.363492</td>\n",
       "      <td>56.530726</td>\n",
       "    </tr>\n",
       "    <tr>\n",
       "      <th>2020</th>\n",
       "      <td>6.061712</td>\n",
       "      <td>55.173913</td>\n",
       "    </tr>\n",
       "    <tr>\n",
       "      <th>2021</th>\n",
       "      <td>6.167730</td>\n",
       "      <td>57.345238</td>\n",
       "    </tr>\n",
       "    <tr>\n",
       "      <th>2022</th>\n",
       "      <td>6.031579</td>\n",
       "      <td>58.915493</td>\n",
       "    </tr>\n",
       "  </tbody>\n",
       "</table>\n",
       "</div>"
      ],
      "text/plain": [
       "         imdbRating  Metascore\n",
       "Release                       \n",
       "2018       6.355869  57.836634\n",
       "2019       6.363492  56.530726\n",
       "2020       6.061712  55.173913\n",
       "2021       6.167730  57.345238\n",
       "2022       6.031579  58.915493"
      ]
     },
     "execution_count": 28,
     "metadata": {},
     "output_type": "execute_result"
    }
   ],
   "source": [
    "# group by average imdbRatings for each release year for all film types\n",
    "movies_rating_grp = pd.DataFrame(cleaned_movie_pd.groupby([\"Release\"])[\"imdbRating\", \"Metascore\"].mean())\n",
    "movies_rating_grp"
   ]
  },
  {
   "cell_type": "code",
   "execution_count": 83,
   "id": "c85fac56",
   "metadata": {},
   "outputs": [
    {
     "data": {
      "image/png": "[encoded data removed]",
      "text/plain": [
       "<Figure size 432x288 with 1 Axes>"
      ]
     },
     "metadata": {
      "needs_background": "light"
     },
     "output_type": "display_data"
    }
   ],
   "source": [
    "# plot the movie ratings against release year for all movies\n",
    "\n",
    "move_rating_plot = movies_rating_grp.plot(kind = \"bar\", y = [\"imdbRating\"], color = \"b\", alpha = 0.8)\n",
    "\n",
    "\n",
    "plt.xlabel(\"Movie Release Year\")\n",
    "plt.ylabel(\"Average Ratings\")\n",
    "plt.title(\"Average imdb Ratings for All Movies\")\n",
    "plt.show()"
   ]
  },
  {
   "cell_type": "code",
   "execution_count": 84,
   "id": "3467b26e",
   "metadata": {},
   "outputs": [
    {
     "data": {
      "image/png": "[encoded data removed]",
      "text/plain": [
       "<Figure size 432x288 with 1 Axes>"
      ]
     },
     "metadata": {
      "needs_background": "light"
     },
     "output_type": "display_data"
    }
   ],
   "source": [
    "# plot the movie Metascore against release year for all movies\n",
    "\n",
    "move_rating_plot = movies_rating_grp.plot(kind = \"bar\", y = [\"Metascore\"], color = \"r\", alpha = 0.8)\n",
    "\n",
    "\n",
    "plt.xlabel(\"Movie Release Year\")\n",
    "plt.ylabel(\"Average Metascore\")\n",
    "plt.title(\"Average Metascore for All Movies\")\n",
    "plt.show()"
   ]
  },
  {
   "cell_type": "code",
   "execution_count": 60,
   "id": "07788410",
   "metadata": {},
   "outputs": [
    {
     "name": "stderr",
     "output_type": "stream",
     "text": [
      "C:\\Users\\Jing Surface\\anaconda3\\envs\\PythonData\\lib\\site-packages\\ipykernel_launcher.py:2: FutureWarning: Indexing with multiple keys (implicitly converted to a tuple of keys) will be deprecated, use a list instead.\n",
      "  \n"
     ]
    },
    {
     "data": {
      "text/html": [
       "<div>\n",
       "<style scoped>\n",
       "    .dataframe tbody tr th:only-of-type {\n",
       "        vertical-align: middle;\n",
       "    }\n",
       "\n",
       "    .dataframe tbody tr th {\n",
       "        vertical-align: top;\n",
       "    }\n",
       "\n",
       "    .dataframe thead th {\n",
       "        text-align: right;\n",
       "    }\n",
       "</style>\n",
       "<table border=\"1\" class=\"dataframe\">\n",
       "  <thead>\n",
       "    <tr style=\"text-align: right;\">\n",
       "      <th></th>\n",
       "      <th>Budget</th>\n",
       "      <th>Gross</th>\n",
       "    </tr>\n",
       "    <tr>\n",
       "      <th>Release</th>\n",
       "      <th></th>\n",
       "      <th></th>\n",
       "    </tr>\n",
       "  </thead>\n",
       "  <tbody>\n",
       "    <tr>\n",
       "      <th>2018</th>\n",
       "      <td>4.845898e+07</td>\n",
       "      <td>1.297669e+08</td>\n",
       "    </tr>\n",
       "    <tr>\n",
       "      <th>2019</th>\n",
       "      <td>5.009270e+07</td>\n",
       "      <td>1.322612e+08</td>\n",
       "    </tr>\n",
       "    <tr>\n",
       "      <th>2020</th>\n",
       "      <td>4.408144e+07</td>\n",
       "      <td>2.798931e+07</td>\n",
       "    </tr>\n",
       "    <tr>\n",
       "      <th>2021</th>\n",
       "      <td>8.517936e+07</td>\n",
       "      <td>5.874817e+07</td>\n",
       "    </tr>\n",
       "    <tr>\n",
       "      <th>2022</th>\n",
       "      <td>6.494768e+07</td>\n",
       "      <td>1.021143e+08</td>\n",
       "    </tr>\n",
       "  </tbody>\n",
       "</table>\n",
       "</div>"
      ],
      "text/plain": [
       "               Budget         Gross\n",
       "Release                            \n",
       "2018     4.845898e+07  1.297669e+08\n",
       "2019     5.009270e+07  1.322612e+08\n",
       "2020     4.408144e+07  2.798931e+07\n",
       "2021     8.517936e+07  5.874817e+07\n",
       "2022     6.494768e+07  1.021143e+08"
      ]
     },
     "execution_count": 60,
     "metadata": {},
     "output_type": "execute_result"
    }
   ],
   "source": [
    "# group by average gross for each release year\n",
    "all_movies_gross_grp = pd.DataFrame(cleaned_movie_pd.groupby([\"Release\"])[\"Budget\", \"Gross\"].mean())\n",
    "all_movies_gross_grp"
   ]
  },
  {
   "cell_type": "code",
   "execution_count": 75,
   "id": "fdf31d04",
   "metadata": {},
   "outputs": [
    {
     "data": {
      "image/png": "[encoded data removed]",
      "text/plain": [
       "<Figure size 432x288 with 1 Axes>"
      ]
     },
     "metadata": {
      "needs_background": "light"
     },
     "output_type": "display_data"
    }
   ],
   "source": [
    "# plot the movie gross against release year for all film types\n",
    "all_movies_gross_grp.plot(kind = \"bar\", alpha = 0.8)\n",
    "\n",
    "plt.xlabel(\"Movie Release Year\")\n",
    "plt.ylabel(\"Average Budget or Gross in Hundreds of Millions (USD)\")\n",
    "plt.title(\"Average Budget/Gross for All Movies\")\n",
    "plt.show()\n",
    "\n",
    "# tested - empty cells do not count towards average/sum calculations"
   ]
  },
  {
   "cell_type": "code",
   "execution_count": 76,
   "id": "92f03e99",
   "metadata": {},
   "outputs": [
    {
     "name": "stderr",
     "output_type": "stream",
     "text": [
      "C:\\Users\\Jing Surface\\anaconda3\\envs\\PythonData\\lib\\site-packages\\ipykernel_launcher.py:2: FutureWarning: Indexing with multiple keys (implicitly converted to a tuple of keys) will be deprecated, use a list instead.\n",
      "  \n",
      "C:\\Users\\Jing Surface\\anaconda3\\envs\\PythonData\\lib\\site-packages\\ipykernel_launcher.py:3: FutureWarning: Indexing with multiple keys (implicitly converted to a tuple of keys) will be deprecated, use a list instead.\n",
      "  This is separate from the ipykernel package so we can avoid doing imports until\n"
     ]
    }
   ],
   "source": [
    "# plot the movie gross against release year for non-streaming & streaming film types\n",
    "nonstreaming_movies_gross_grp = pd.DataFrame(non_streaming_df.groupby([\"Release\"])[\"Budget\", \"Gross\"].mean())\n",
    "streaming_movies_gross_grp = pd.DataFrame(streaming_df.groupby([\"Release\"])[\"Budget\", \"Gross\"].mean())"
   ]
  },
  {
   "cell_type": "code",
   "execution_count": 77,
   "id": "c7fb000e",
   "metadata": {},
   "outputs": [
    {
     "data": {
      "image/png": "[encoded data removed]",
      "text/plain": [
       "<Figure size 432x288 with 1 Axes>"
      ]
     },
     "metadata": {
      "needs_background": "light"
     },
     "output_type": "display_data"
    }
   ],
   "source": [
    "# plot the movie gross against release year for non-streaming & streaming film types\n",
    "\n",
    "nonstreaming_movies_gross_grp.plot(kind = \"bar\", alpha = 0.8)\n",
    "\n",
    "plt.xlabel(\"Movie Release Year\")\n",
    "plt.ylabel(\"Average Budget or Gross in Hundreds of Millions (USD)\")\n",
    "plt.title(\"Average Budget/Gross for NonStreaming Movies\")\n",
    "plt.show()\n"
   ]
  },
  {
   "cell_type": "code",
   "execution_count": 79,
   "id": "2c390d4d",
   "metadata": {},
   "outputs": [
    {
     "data": {
      "image/png": "[encoded data removed]",
      "text/plain": [
       "<Figure size 432x288 with 1 Axes>"
      ]
     },
     "metadata": {
      "needs_background": "light"
     },
     "output_type": "display_data"
    }
   ],
   "source": [
    "# plot the movie gross against release year for streaming film types\n",
    "\n",
    "streaming_movies_gross_grp.plot(kind = \"bar\", alpha = 0.8)\n",
    "\n",
    "plt.xlabel(\"Movie Release Year\")\n",
    "plt.ylabel(\"Average Budget or Gross in Hundreds of Millions (USD)\")\n",
    "plt.title(\"Average Budget/Gross for Netflix Movies\")\n",
    "plt.show()"
   ]
  },
  {
   "cell_type": "code",
   "execution_count": 118,
   "id": "83d8a98a",
   "metadata": {},
   "outputs": [
    {
     "data": {
      "text/html": [
       "<div>\n",
       "<style scoped>\n",
       "    .dataframe tbody tr th:only-of-type {\n",
       "        vertical-align: middle;\n",
       "    }\n",
       "\n",
       "    .dataframe tbody tr th {\n",
       "        vertical-align: top;\n",
       "    }\n",
       "\n",
       "    .dataframe thead th {\n",
       "        text-align: right;\n",
       "    }\n",
       "</style>\n",
       "<table border=\"1\" class=\"dataframe\">\n",
       "  <thead>\n",
       "    <tr style=\"text-align: right;\">\n",
       "      <th></th>\n",
       "      <th></th>\n",
       "      <th>Gross</th>\n",
       "    </tr>\n",
       "    <tr>\n",
       "      <th>Release</th>\n",
       "      <th>Genre</th>\n",
       "      <th></th>\n",
       "    </tr>\n",
       "  </thead>\n",
       "  <tbody>\n",
       "    <tr>\n",
       "      <th rowspan=\"5\" valign=\"top\">2018</th>\n",
       "      <th>Action</th>\n",
       "      <td>2.464242e+08</td>\n",
       "    </tr>\n",
       "    <tr>\n",
       "      <th>Adventure</th>\n",
       "      <td>1.422069e+08</td>\n",
       "    </tr>\n",
       "    <tr>\n",
       "      <th>Animation</th>\n",
       "      <td>3.349816e+08</td>\n",
       "    </tr>\n",
       "    <tr>\n",
       "      <th>Biography</th>\n",
       "      <td>7.165665e+07</td>\n",
       "    </tr>\n",
       "    <tr>\n",
       "      <th>Comedy</th>\n",
       "      <td>4.371985e+07</td>\n",
       "    </tr>\n",
       "    <tr>\n",
       "      <th>...</th>\n",
       "      <th>...</th>\n",
       "      <td>...</td>\n",
       "    </tr>\n",
       "    <tr>\n",
       "      <th rowspan=\"5\" valign=\"top\">2022</th>\n",
       "      <th>Family</th>\n",
       "      <td>1.115158e+06</td>\n",
       "    </tr>\n",
       "    <tr>\n",
       "      <th>Fantasy</th>\n",
       "      <td>4.588389e+06</td>\n",
       "    </tr>\n",
       "    <tr>\n",
       "      <th>Horror</th>\n",
       "      <td>7.745254e+07</td>\n",
       "    </tr>\n",
       "    <tr>\n",
       "      <th>Mystery</th>\n",
       "      <td>2.664660e+05</td>\n",
       "    </tr>\n",
       "    <tr>\n",
       "      <th>Thriller</th>\n",
       "      <td>3.054116e+06</td>\n",
       "    </tr>\n",
       "  </tbody>\n",
       "</table>\n",
       "<p>61 rows × 1 columns</p>\n",
       "</div>"
      ],
      "text/plain": [
       "                          Gross\n",
       "Release Genre                  \n",
       "2018    Action     2.464242e+08\n",
       "        Adventure  1.422069e+08\n",
       "        Animation  3.349816e+08\n",
       "        Biography  7.165665e+07\n",
       "        Comedy     4.371985e+07\n",
       "...                         ...\n",
       "2022    Family     1.115158e+06\n",
       "        Fantasy    4.588389e+06\n",
       "        Horror     7.745254e+07\n",
       "        Mystery    2.664660e+05\n",
       "        Thriller   3.054116e+06\n",
       "\n",
       "[61 rows x 1 columns]"
      ]
     },
     "execution_count": 118,
     "metadata": {},
     "output_type": "execute_result"
    }
   ],
   "source": [
    "# Average Gross per genre\n",
    "genre_df = pd.DataFrame(cleaned_movie_pd.groupby([\"Release\", \"Genre\"])[\"Gross\"].mean().fillna(0))\n",
    "genre_df"
   ]
  },
  {
   "cell_type": "code",
   "execution_count": 119,
   "id": "d3d88e13",
   "metadata": {},
   "outputs": [
    {
     "data": {
      "image/png": "[encoded data removed]",
      "text/plain": [
       "<Figure size 432x288 with 1 Axes>"
      ]
     },
     "metadata": {},
     "output_type": "display_data"
    }
   ],
   "source": [
    "# gross per genre type for 2018\n",
    "genre_df_2018 = genre_df.loc[2018].reset_index(drop = False)\n",
    "\n",
    "plt.pie(genre_df_2018[\"Gross\"], labels = genre_df_2018[\"Genre\"], autopct=\"%1.1f%%\")\n",
    "plt.show()"
   ]
  },
  {
   "cell_type": "code",
   "execution_count": 120,
   "id": "b0211a0d",
   "metadata": {},
   "outputs": [
    {
     "ename": "ValueError",
     "evalue": "'label' must be of length 'x'",
     "output_type": "error",
     "traceback": [
      "\u001b[1;31m---------------------------------------------------------------------------\u001b[0m",
      "\u001b[1;31mValueError\u001b[0m                                Traceback (most recent call last)",
      "\u001b[1;32m~\\AppData\\Local\\Temp\\ipykernel_21684\\3990005378.py\u001b[0m in \u001b[0;36m<module>\u001b[1;34m\u001b[0m\n\u001b[0;32m      2\u001b[0m \u001b[0mgenre_df_2019\u001b[0m \u001b[1;33m=\u001b[0m \u001b[0mgenre_df\u001b[0m\u001b[1;33m.\u001b[0m\u001b[0mloc\u001b[0m\u001b[1;33m[\u001b[0m\u001b[1;36m2019\u001b[0m\u001b[1;33m]\u001b[0m\u001b[1;33m.\u001b[0m\u001b[0mreset_index\u001b[0m\u001b[1;33m(\u001b[0m\u001b[0mdrop\u001b[0m \u001b[1;33m=\u001b[0m \u001b[1;32mFalse\u001b[0m\u001b[1;33m)\u001b[0m\u001b[1;33m\u001b[0m\u001b[1;33m\u001b[0m\u001b[0m\n\u001b[0;32m      3\u001b[0m \u001b[1;33m\u001b[0m\u001b[0m\n\u001b[1;32m----> 4\u001b[1;33m \u001b[0mplt\u001b[0m\u001b[1;33m.\u001b[0m\u001b[0mpie\u001b[0m\u001b[1;33m(\u001b[0m\u001b[0mgenre_df_2019\u001b[0m\u001b[1;33m[\u001b[0m\u001b[1;34m\"Gross\"\u001b[0m\u001b[1;33m]\u001b[0m\u001b[1;33m,\u001b[0m \u001b[0mlabels\u001b[0m \u001b[1;33m=\u001b[0m \u001b[0mgenre_df_2018\u001b[0m\u001b[1;33m[\u001b[0m\u001b[1;34m\"Genre\"\u001b[0m\u001b[1;33m]\u001b[0m\u001b[1;33m,\u001b[0m \u001b[0mautopct\u001b[0m\u001b[1;33m=\u001b[0m\u001b[1;34m\"%1.1f%%\"\u001b[0m\u001b[1;33m)\u001b[0m\u001b[1;33m\u001b[0m\u001b[1;33m\u001b[0m\u001b[0m\n\u001b[0m\u001b[0;32m      5\u001b[0m \u001b[0mplt\u001b[0m\u001b[1;33m.\u001b[0m\u001b[0mshow\u001b[0m\u001b[1;33m(\u001b[0m\u001b[1;33m)\u001b[0m\u001b[1;33m\u001b[0m\u001b[1;33m\u001b[0m\u001b[0m\n",
      "\u001b[1;32m~\\anaconda3\\envs\\PythonData\\lib\\site-packages\\matplotlib\\pyplot.py\u001b[0m in \u001b[0;36mpie\u001b[1;34m(x, explode, labels, colors, autopct, pctdistance, shadow, labeldistance, startangle, radius, counterclock, wedgeprops, textprops, center, frame, rotatelabels, data)\u001b[0m\n\u001b[0;32m   2753\u001b[0m         \u001b[0mwedgeprops\u001b[0m\u001b[1;33m=\u001b[0m\u001b[0mwedgeprops\u001b[0m\u001b[1;33m,\u001b[0m \u001b[0mtextprops\u001b[0m\u001b[1;33m=\u001b[0m\u001b[0mtextprops\u001b[0m\u001b[1;33m,\u001b[0m \u001b[0mcenter\u001b[0m\u001b[1;33m=\u001b[0m\u001b[0mcenter\u001b[0m\u001b[1;33m,\u001b[0m\u001b[1;33m\u001b[0m\u001b[1;33m\u001b[0m\u001b[0m\n\u001b[0;32m   2754\u001b[0m         frame=frame, rotatelabels=rotatelabels, **({\"data\": data} if\n\u001b[1;32m-> 2755\u001b[1;33m         data is not None else {}))\n\u001b[0m\u001b[0;32m   2756\u001b[0m \u001b[1;33m\u001b[0m\u001b[0m\n\u001b[0;32m   2757\u001b[0m \u001b[1;33m\u001b[0m\u001b[0m\n",
      "\u001b[1;32m~\\anaconda3\\envs\\PythonData\\lib\\site-packages\\matplotlib\\__init__.py\u001b[0m in \u001b[0;36minner\u001b[1;34m(ax, data, *args, **kwargs)\u001b[0m\n\u001b[0;32m   1563\u001b[0m     \u001b[1;32mdef\u001b[0m \u001b[0minner\u001b[0m\u001b[1;33m(\u001b[0m\u001b[0max\u001b[0m\u001b[1;33m,\u001b[0m \u001b[1;33m*\u001b[0m\u001b[0margs\u001b[0m\u001b[1;33m,\u001b[0m \u001b[0mdata\u001b[0m\u001b[1;33m=\u001b[0m\u001b[1;32mNone\u001b[0m\u001b[1;33m,\u001b[0m \u001b[1;33m**\u001b[0m\u001b[0mkwargs\u001b[0m\u001b[1;33m)\u001b[0m\u001b[1;33m:\u001b[0m\u001b[1;33m\u001b[0m\u001b[1;33m\u001b[0m\u001b[0m\n\u001b[0;32m   1564\u001b[0m         \u001b[1;32mif\u001b[0m \u001b[0mdata\u001b[0m \u001b[1;32mis\u001b[0m \u001b[1;32mNone\u001b[0m\u001b[1;33m:\u001b[0m\u001b[1;33m\u001b[0m\u001b[1;33m\u001b[0m\u001b[0m\n\u001b[1;32m-> 1565\u001b[1;33m             \u001b[1;32mreturn\u001b[0m \u001b[0mfunc\u001b[0m\u001b[1;33m(\u001b[0m\u001b[0max\u001b[0m\u001b[1;33m,\u001b[0m \u001b[1;33m*\u001b[0m\u001b[0mmap\u001b[0m\u001b[1;33m(\u001b[0m\u001b[0msanitize_sequence\u001b[0m\u001b[1;33m,\u001b[0m \u001b[0margs\u001b[0m\u001b[1;33m)\u001b[0m\u001b[1;33m,\u001b[0m \u001b[1;33m**\u001b[0m\u001b[0mkwargs\u001b[0m\u001b[1;33m)\u001b[0m\u001b[1;33m\u001b[0m\u001b[1;33m\u001b[0m\u001b[0m\n\u001b[0m\u001b[0;32m   1566\u001b[0m \u001b[1;33m\u001b[0m\u001b[0m\n\u001b[0;32m   1567\u001b[0m         \u001b[0mbound\u001b[0m \u001b[1;33m=\u001b[0m \u001b[0mnew_sig\u001b[0m\u001b[1;33m.\u001b[0m\u001b[0mbind\u001b[0m\u001b[1;33m(\u001b[0m\u001b[0max\u001b[0m\u001b[1;33m,\u001b[0m \u001b[1;33m*\u001b[0m\u001b[0margs\u001b[0m\u001b[1;33m,\u001b[0m \u001b[1;33m**\u001b[0m\u001b[0mkwargs\u001b[0m\u001b[1;33m)\u001b[0m\u001b[1;33m\u001b[0m\u001b[1;33m\u001b[0m\u001b[0m\n",
      "\u001b[1;32m~\\anaconda3\\envs\\PythonData\\lib\\site-packages\\matplotlib\\axes\\_axes.py\u001b[0m in \u001b[0;36mpie\u001b[1;34m(self, x, explode, labels, colors, autopct, pctdistance, shadow, labeldistance, startangle, radius, counterclock, wedgeprops, textprops, center, frame, rotatelabels)\u001b[0m\n\u001b[0;32m   2927\u001b[0m             \u001b[0mexplode\u001b[0m \u001b[1;33m=\u001b[0m \u001b[1;33m[\u001b[0m\u001b[1;36m0\u001b[0m\u001b[1;33m]\u001b[0m \u001b[1;33m*\u001b[0m \u001b[0mlen\u001b[0m\u001b[1;33m(\u001b[0m\u001b[0mx\u001b[0m\u001b[1;33m)\u001b[0m\u001b[1;33m\u001b[0m\u001b[1;33m\u001b[0m\u001b[0m\n\u001b[0;32m   2928\u001b[0m         \u001b[1;32mif\u001b[0m \u001b[0mlen\u001b[0m\u001b[1;33m(\u001b[0m\u001b[0mx\u001b[0m\u001b[1;33m)\u001b[0m \u001b[1;33m!=\u001b[0m \u001b[0mlen\u001b[0m\u001b[1;33m(\u001b[0m\u001b[0mlabels\u001b[0m\u001b[1;33m)\u001b[0m\u001b[1;33m:\u001b[0m\u001b[1;33m\u001b[0m\u001b[1;33m\u001b[0m\u001b[0m\n\u001b[1;32m-> 2929\u001b[1;33m             \u001b[1;32mraise\u001b[0m \u001b[0mValueError\u001b[0m\u001b[1;33m(\u001b[0m\u001b[1;34m\"'label' must be of length 'x'\"\u001b[0m\u001b[1;33m)\u001b[0m\u001b[1;33m\u001b[0m\u001b[1;33m\u001b[0m\u001b[0m\n\u001b[0m\u001b[0;32m   2930\u001b[0m         \u001b[1;32mif\u001b[0m \u001b[0mlen\u001b[0m\u001b[1;33m(\u001b[0m\u001b[0mx\u001b[0m\u001b[1;33m)\u001b[0m \u001b[1;33m!=\u001b[0m \u001b[0mlen\u001b[0m\u001b[1;33m(\u001b[0m\u001b[0mexplode\u001b[0m\u001b[1;33m)\u001b[0m\u001b[1;33m:\u001b[0m\u001b[1;33m\u001b[0m\u001b[1;33m\u001b[0m\u001b[0m\n\u001b[0;32m   2931\u001b[0m             \u001b[1;32mraise\u001b[0m \u001b[0mValueError\u001b[0m\u001b[1;33m(\u001b[0m\u001b[1;34m\"'explode' must be of length 'x'\"\u001b[0m\u001b[1;33m)\u001b[0m\u001b[1;33m\u001b[0m\u001b[1;33m\u001b[0m\u001b[0m\n",
      "\u001b[1;31mValueError\u001b[0m: 'label' must be of length 'x'"
     ]
    },
    {
     "data": {
      "image/png": "[encoded data removed]",
      "text/plain": [
       "<Figure size 432x288 with 1 Axes>"
      ]
     },
     "metadata": {
      "needs_background": "light"
     },
     "output_type": "display_data"
    }
   ],
   "source": [
    "# gross per genre type for 2019\n",
    "genre_df_2019 = genre_df.loc[2019].reset_index(drop = False)\n",
    "\n",
    "plt.pie(genre_df_2019[\"Gross\"], labels = genre_df_2018[\"Genre\"], autopct=\"%1.1f%%\")\n",
    "plt.show()"
   ]
  },
  {
   "cell_type": "code",
   "execution_count": null,
   "id": "4ba218f6",
   "metadata": {},
   "outputs": [],
   "source": []
  }
 ],
 "metadata": {
  "kernelspec": {
   "display_name": "PythonData",
   "language": "python",
   "name": "pythondata"
  },
  "language_info": {
   "codemirror_mode": {
    "name": "ipython",
    "version": 3
   },
   "file_extension": ".py",
   "mimetype": "text/x-python",
   "name": "python",
   "nbconvert_exporter": "python",
   "pygments_lexer": "ipython3",
   "version": "3.7.7"
  }
 },
 "nbformat": 4,
 "nbformat_minor": 5
}
